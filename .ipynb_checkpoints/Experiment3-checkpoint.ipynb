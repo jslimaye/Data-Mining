{
 "cells": [
  {
   "cell_type": "code",
   "execution_count": 0,
   "metadata": {
    "colab": {},
    "colab_type": "code",
    "id": "JrZlnCUWJ9zc"
   },
   "outputs": [],
   "source": [
    "import numpy as np\n",
    "import pandas as pd\n",
    "import seaborn as sb\n",
    "import matplotlib.pyplot as plt"
   ]
  },
  {
   "cell_type": "code",
   "execution_count": 0,
   "metadata": {
    "colab": {},
    "colab_type": "code",
    "id": "9Q70jx6HJ9zr"
   },
   "outputs": [],
   "source": [
    "df=pd.read_csv('Salaries1.csv') #reading the csv file"
   ]
  },
  {
   "cell_type": "code",
   "execution_count": 0,
   "metadata": {
    "colab": {},
    "colab_type": "code",
    "id": "TLMJs6qCJ9z0",
    "outputId": "47f353df-84db-4fb8-dd85-d8eb59660607"
   },
   "outputs": [
    {
     "data": {
      "text/html": [
       "<div>\n",
       "<style scoped>\n",
       "    .dataframe tbody tr th:only-of-type {\n",
       "        vertical-align: middle;\n",
       "    }\n",
       "\n",
       "    .dataframe tbody tr th {\n",
       "        vertical-align: top;\n",
       "    }\n",
       "\n",
       "    .dataframe thead th {\n",
       "        text-align: right;\n",
       "    }\n",
       "</style>\n",
       "<table border=\"1\" class=\"dataframe\">\n",
       "  <thead>\n",
       "    <tr style=\"text-align: right;\">\n",
       "      <th></th>\n",
       "      <th>Id</th>\n",
       "      <th>BasePay</th>\n",
       "      <th>OvertimePay</th>\n",
       "      <th>OtherPay</th>\n",
       "      <th>Benefits</th>\n",
       "      <th>TotalPay</th>\n",
       "      <th>TotalPayBenefits</th>\n",
       "      <th>Year</th>\n",
       "      <th>Notes</th>\n",
       "      <th>Status</th>\n",
       "    </tr>\n",
       "  </thead>\n",
       "  <tbody>\n",
       "    <tr>\n",
       "      <th>count</th>\n",
       "      <td>700.00000</td>\n",
       "      <td>700.000000</td>\n",
       "      <td>700.000000</td>\n",
       "      <td>700.000000</td>\n",
       "      <td>0.0</td>\n",
       "      <td>700.000000</td>\n",
       "      <td>700.000000</td>\n",
       "      <td>700.0</td>\n",
       "      <td>0.0</td>\n",
       "      <td>0.0</td>\n",
       "    </tr>\n",
       "    <tr>\n",
       "      <th>mean</th>\n",
       "      <td>350.50000</td>\n",
       "      <td>148746.238529</td>\n",
       "      <td>30929.254657</td>\n",
       "      <td>23422.699457</td>\n",
       "      <td>NaN</td>\n",
       "      <td>203098.192643</td>\n",
       "      <td>203098.192643</td>\n",
       "      <td>2011.0</td>\n",
       "      <td>NaN</td>\n",
       "      <td>NaN</td>\n",
       "    </tr>\n",
       "    <tr>\n",
       "      <th>std</th>\n",
       "      <td>202.21688</td>\n",
       "      <td>41893.005420</td>\n",
       "      <td>35048.138358</td>\n",
       "      <td>30389.452972</td>\n",
       "      <td>NaN</td>\n",
       "      <td>31555.302913</td>\n",
       "      <td>31555.302913</td>\n",
       "      <td>0.0</td>\n",
       "      <td>NaN</td>\n",
       "      <td>NaN</td>\n",
       "    </tr>\n",
       "    <tr>\n",
       "      <th>min</th>\n",
       "      <td>1.00000</td>\n",
       "      <td>25400.000000</td>\n",
       "      <td>0.000000</td>\n",
       "      <td>0.000000</td>\n",
       "      <td>NaN</td>\n",
       "      <td>179178.720000</td>\n",
       "      <td>179178.720000</td>\n",
       "      <td>2011.0</td>\n",
       "      <td>NaN</td>\n",
       "      <td>NaN</td>\n",
       "    </tr>\n",
       "    <tr>\n",
       "      <th>25%</th>\n",
       "      <td>175.75000</td>\n",
       "      <td>112441.822500</td>\n",
       "      <td>0.000000</td>\n",
       "      <td>7310.035000</td>\n",
       "      <td>NaN</td>\n",
       "      <td>185595.930000</td>\n",
       "      <td>185595.930000</td>\n",
       "      <td>2011.0</td>\n",
       "      <td>NaN</td>\n",
       "      <td>NaN</td>\n",
       "    </tr>\n",
       "    <tr>\n",
       "      <th>50%</th>\n",
       "      <td>350.50000</td>\n",
       "      <td>140546.890000</td>\n",
       "      <td>17360.670000</td>\n",
       "      <td>16552.940000</td>\n",
       "      <td>NaN</td>\n",
       "      <td>193923.620000</td>\n",
       "      <td>193923.620000</td>\n",
       "      <td>2011.0</td>\n",
       "      <td>NaN</td>\n",
       "      <td>NaN</td>\n",
       "    </tr>\n",
       "    <tr>\n",
       "      <th>75%</th>\n",
       "      <td>525.25000</td>\n",
       "      <td>183653.740000</td>\n",
       "      <td>57710.107500</td>\n",
       "      <td>27294.035000</td>\n",
       "      <td>NaN</td>\n",
       "      <td>208784.360000</td>\n",
       "      <td>208784.360000</td>\n",
       "      <td>2011.0</td>\n",
       "      <td>NaN</td>\n",
       "      <td>NaN</td>\n",
       "    </tr>\n",
       "    <tr>\n",
       "      <th>max</th>\n",
       "      <td>700.00000</td>\n",
       "      <td>294580.020000</td>\n",
       "      <td>245131.880000</td>\n",
       "      <td>400184.250000</td>\n",
       "      <td>NaN</td>\n",
       "      <td>567595.430000</td>\n",
       "      <td>567595.430000</td>\n",
       "      <td>2011.0</td>\n",
       "      <td>NaN</td>\n",
       "      <td>NaN</td>\n",
       "    </tr>\n",
       "  </tbody>\n",
       "</table>\n",
       "</div>"
      ],
      "text/plain": [
       "              Id        BasePay    OvertimePay       OtherPay  Benefits  \\\n",
       "count  700.00000     700.000000     700.000000     700.000000       0.0   \n",
       "mean   350.50000  148746.238529   30929.254657   23422.699457       NaN   \n",
       "std    202.21688   41893.005420   35048.138358   30389.452972       NaN   \n",
       "min      1.00000   25400.000000       0.000000       0.000000       NaN   \n",
       "25%    175.75000  112441.822500       0.000000    7310.035000       NaN   \n",
       "50%    350.50000  140546.890000   17360.670000   16552.940000       NaN   \n",
       "75%    525.25000  183653.740000   57710.107500   27294.035000       NaN   \n",
       "max    700.00000  294580.020000  245131.880000  400184.250000       NaN   \n",
       "\n",
       "            TotalPay  TotalPayBenefits    Year  Notes  Status  \n",
       "count     700.000000        700.000000   700.0    0.0     0.0  \n",
       "mean   203098.192643     203098.192643  2011.0    NaN     NaN  \n",
       "std     31555.302913      31555.302913     0.0    NaN     NaN  \n",
       "min    179178.720000     179178.720000  2011.0    NaN     NaN  \n",
       "25%    185595.930000     185595.930000  2011.0    NaN     NaN  \n",
       "50%    193923.620000     193923.620000  2011.0    NaN     NaN  \n",
       "75%    208784.360000     208784.360000  2011.0    NaN     NaN  \n",
       "max    567595.430000     567595.430000  2011.0    NaN     NaN  "
      ]
     },
     "execution_count": 15,
     "metadata": {
      "tags": []
     },
     "output_type": "execute_result"
    }
   ],
   "source": [
    "df.describe()"
   ]
  },
  {
   "cell_type": "code",
   "execution_count": 0,
   "metadata": {
    "colab": {},
    "colab_type": "code",
    "id": "Hna_LTk4J90B",
    "outputId": "a5cfb01b-5f73-4b53-c0ce-bd01f109be20"
   },
   "outputs": [
    {
     "name": "stdout",
     "output_type": "stream",
     "text": [
      "Id                    0\n",
      "EmployeeName          0\n",
      "JobTitle              0\n",
      "BasePay               0\n",
      "OvertimePay           0\n",
      "OtherPay              0\n",
      "Benefits            700\n",
      "TotalPay              0\n",
      "TotalPayBenefits      0\n",
      "Year                  0\n",
      "Notes               700\n",
      "Agency                0\n",
      "Status              700\n",
      "dtype: int64\n"
     ]
    }
   ],
   "source": [
    "#prints the total number of missing values\n",
    "print(df.isnull().sum())"
   ]
  },
  {
   "cell_type": "code",
   "execution_count": 0,
   "metadata": {
    "colab": {},
    "colab_type": "code",
    "id": "qRycgF3vJ90L",
    "outputId": "837d1c03-8cc4-4926-f3ed-7508dab17cfc"
   },
   "outputs": [
    {
     "name": "stdout",
     "output_type": "stream",
     "text": [
      "      Id              EmployeeName  \\\n",
      "0      1            NATHANIEL FORD   \n",
      "1      2              GARY JIMENEZ   \n",
      "2      3            ALBERT PARDINI   \n",
      "3      4         CHRISTOPHER CHONG   \n",
      "4      5           PATRICK GARDNER   \n",
      "5      6            DAVID SULLIVAN   \n",
      "6      7                 ALSON LEE   \n",
      "7      8             DAVID KUSHNER   \n",
      "8      9            MICHAEL MORRIS   \n",
      "9     10        JOANNE HAYES-WHITE   \n",
      "10    11             ARTHUR KENNEY   \n",
      "11    12          PATRICIA JACKSON   \n",
      "12    13         EDWARD HARRINGTON   \n",
      "13    14               JOHN MARTIN   \n",
      "14    15            DAVID FRANKLIN   \n",
      "15    16           RICHARD CORRIEA   \n",
      "16    17                  AMY HART   \n",
      "17    18            SEBASTIAN WONG   \n",
      "18    19                MARTY ROSS   \n",
      "19    20             ELLEN MOFFATT   \n",
      "20    21                VENUS AZAR   \n",
      "21    22              JUDY MELINEK   \n",
      "22    23             GEORGE GARCIA   \n",
      "23    24             VICTOR WYRSCH   \n",
      "24    25           JOSEPH DRISCOLL   \n",
      "25    26              GREGORY SUHR   \n",
      "26    27               JOHN HANLEY   \n",
      "27    28            RAYMOND GUZMAN   \n",
      "28    29            DENISE SCHMITT   \n",
      "29    30             MONICA FIELDS   \n",
      "..   ...                       ...   \n",
      "670  671        ELIZABETH SALVESON   \n",
      "671  672              CHERYL ADAMS   \n",
      "672  673            LOUISE SIMPSON   \n",
      "673  674               BLAKE LOEBS   \n",
      "674  675  ELIZABETH AGUILAR-TARCHI   \n",
      "675  676                 JULIAN NG   \n",
      "676  677                  PAUL JUG   \n",
      "677  678           RONALD JOHANSEN   \n",
      "678  679             ROMELIA SCOTT   \n",
      "679  680             STEVEN MILLER   \n",
      "680  681           GREGORY ZANDERS   \n",
      "681  682               MILTON YUEN   \n",
      "682  683              AARON FISHER   \n",
      "683  684           STEPHEN MAGUIRE   \n",
      "684  685               PEI JIAN LI   \n",
      "685  686           BIENVENIDO VEGA   \n",
      "686  687              AMIT KOTHARI   \n",
      "687  688              VINCENT WONG   \n",
      "688  689            MICHAEL NILAND   \n",
      "689  690                DAVID PINE   \n",
      "690  691                CALVIN LEW   \n",
      "691  692              RONALD LEWIN   \n",
      "692  693            JESSE BAUTISTA   \n",
      "693  694              JAMES HUDSON   \n",
      "694  695        CHRISTOPHER CRESCI   \n",
      "695  696           ROBERT ARMANINO   \n",
      "696  697            WALTER MIRANDA   \n",
      "697  698            ROBERT DUDGEON   \n",
      "698  699          AUGUSTINE CHEUNG   \n",
      "699  700                 JOHN SYME   \n",
      "\n",
      "                                             JobTitle    BasePay  OvertimePay  \\\n",
      "0      GENERAL MANAGER-METROPOLITAN TRANSIT AUTHORITY  167411.18         0.00   \n",
      "1                     CAPTAIN III (POLICE DEPARTMENT)  155966.02    245131.88   \n",
      "2                     CAPTAIN III (POLICE DEPARTMENT)  212739.13    106088.18   \n",
      "3                WIRE ROPE CABLE MAINTENANCE MECHANIC   77916.00     56120.71   \n",
      "4        DEPUTY CHIEF OF DEPARTMENT,(FIRE DEPARTMENT)  134401.60      9737.00   \n",
      "5                           ASSISTANT DEPUTY CHIEF II  118602.00      8601.00   \n",
      "6                  BATTALION CHIEF, (FIRE DEPARTMENT)   92492.01     89062.90   \n",
      "7                      DEPUTY DIRECTOR OF INVESTMENTS  256576.96         0.00   \n",
      "8                  BATTALION CHIEF, (FIRE DEPARTMENT)  176932.64     86362.68   \n",
      "9              CHIEF OF DEPARTMENT, (FIRE DEPARTMENT)  285262.00         0.00   \n",
      "10   ASSISTANT CHIEF OF DEPARTMENT, (FIRE DEPARTMENT)  194999.39     71344.88   \n",
      "11                    CAPTAIN III (POLICE DEPARTMENT)   99722.00     87082.62   \n",
      "12                        EXECUTIVE CONTRACT EMPLOYEE  294580.02         0.00   \n",
      "13                                  DEPARTMENT HEAD V  271329.03         0.00   \n",
      "14                 BATTALION CHIEF, (FIRE DEPARTMENT)  174872.64     74050.30   \n",
      "15                 COMMANDER III, (POLICE DEPARTMENT)  198778.01     73478.20   \n",
      "16                                  DEPARTMENT HEAD V  268604.57         0.00   \n",
      "17              CAPTAIN, EMERGENCYCY MEDICAL SERVICES  140546.87    119397.26   \n",
      "18                 BATTALION CHIEF, (FIRE DEPARTMENT)  168692.63     69626.12   \n",
      "19                         ASSISTANT MEDICAL EXAMINER  257510.59       880.16   \n",
      "20                         ASSISTANT MEDICAL EXAMINER  257510.48         0.00   \n",
      "21                         ASSISTANT MEDICAL EXAMINER  257510.44       377.21   \n",
      "22                          CAPTAIN, FIRE SUPPRESSION  140546.88     93200.58   \n",
      "23                 BATTALION CHIEF, (FIRE DEPARTMENT)  168692.63     77896.14   \n",
      "24                          CAPTAIN, FIRE SUPPRESSION  140546.86     97868.77   \n",
      "25                                    CHIEF OF POLICE  256470.41         0.00   \n",
      "26                          CAPTAIN, FIRE SUPPRESSION   92080.80     40008.00   \n",
      "27                 BATTALION CHIEF, (FIRE DEPARTMENT)  168692.59     80706.88   \n",
      "28               DEPUTY CHIEF III (POLICE DEPARTMENT)  261717.60         0.00   \n",
      "29       DEPUTY CHIEF OF DEPARTMENT,(FIRE DEPARTMENT)  246225.60         0.00   \n",
      "..                                                ...        ...          ...   \n",
      "670                 HEAD ATTORNEY, CIVIL AND CRIMINAL  176856.23         0.00   \n",
      "671                 HEAD ATTORNEY, CIVIL AND CRIMINAL  176856.18         0.00   \n",
      "672                 HEAD ATTORNEY, CIVIL AND CRIMINAL  176856.18         0.00   \n",
      "673                 HEAD ATTORNEY, CIVIL AND CRIMINAL  176856.19         0.00   \n",
      "674                 HEAD ATTORNEY, CIVIL AND CRIMINAL  176856.17         0.00   \n",
      "675                  SERGEANT III (POLICE DEPARTMENT)  130457.76     43793.11   \n",
      "676                            FIRE FIGHTER PARAMEDIC  122405.00     43235.97   \n",
      "677                            FIRE FIGHTER PARAMEDIC  122404.99     47724.51   \n",
      "678                                       FIREFIGHTER  105934.64     56335.26   \n",
      "679                                       FIREFIGHTER  105934.66     62047.83   \n",
      "680                                       FIREFIGHTER  105934.66     54846.07   \n",
      "681                          FIRE SAFETY INSPECTOR II  126968.07      1854.12   \n",
      "682                                       FIREFIGHTER  105934.65     56048.71   \n",
      "683                                       FIREFIGHTER  105934.65     57157.15   \n",
      "684                ELECTRICAL TRANSIT SYSTEM MECHANIC   77580.41     93921.49   \n",
      "685                             MAINTENANCE MACHINIST   76205.47     93952.00   \n",
      "686  DEPUTY DIRECTOR I - MUNICIPAL TRANSPORTATION AGE  179832.14         0.00   \n",
      "687                                       FIREFIGHTER  105934.63     54740.48   \n",
      "688                INSPECTOR III, (POLICE DEPARTMENT)  130466.64       947.48   \n",
      "689                       SENIOR PHYSICIAN SPECIALIST  171265.80         0.00   \n",
      "690                                POLICE OFFICER III  112421.43     11725.30   \n",
      "691                BATTALION CHIEF, (FIRE DEPARTMENT)   90812.64     13825.49   \n",
      "692                                       FIREFIGHTER  105934.65     51069.08   \n",
      "693                                       FIREFIGHTER  105934.65     54207.93   \n",
      "694                ELECTRICAL TRANSIT SYSTEM MECHANIC   77580.40     92213.11   \n",
      "695                LIEUTENANT III (POLICE DEPARTMENT)  149023.97     14130.64   \n",
      "696                                POLICE OFFICER III  112421.38     14005.29   \n",
      "697                                DEPUTY DIRECTOR IV  174229.38         0.00   \n",
      "698                                TRANSIT SUPERVISOR   88400.70     83345.77   \n",
      "699                  SERGEANT III (POLICE DEPARTMENT)  130457.93     22935.98   \n",
      "\n",
      "      OtherPay  Benefits   TotalPay  TotalPayBenefits  Year  Notes  \\\n",
      "0    400184.25       NaN  567595.43         567595.43  2011    NaN   \n",
      "1    137811.38       NaN  538909.28         538909.28  2011    NaN   \n",
      "2     16452.60       NaN  335279.91         335279.91  2011    NaN   \n",
      "3    198306.90       NaN  332343.61         332343.61  2011    NaN   \n",
      "4    182234.59       NaN  326373.19         326373.19  2011    NaN   \n",
      "5    189082.74       NaN  316285.74         316285.74  2011    NaN   \n",
      "6    134426.14       NaN  315981.05         315981.05  2011    NaN   \n",
      "7     51322.50       NaN  307899.46         307899.46  2011    NaN   \n",
      "8     40132.23       NaN  303427.55         303427.55  2011    NaN   \n",
      "9     17115.73       NaN  302377.73         302377.73  2011    NaN   \n",
      "10    33149.90       NaN  299494.17         299494.17  2011    NaN   \n",
      "11   110804.30       NaN  297608.92         297608.92  2011    NaN   \n",
      "12        0.00       NaN  294580.02         294580.02  2011    NaN   \n",
      "13    21342.59       NaN  292671.62         292671.62  2011    NaN   \n",
      "14    37424.11       NaN  286347.05         286347.05  2011    NaN   \n",
      "15    13957.65       NaN  286213.86         286213.86  2011    NaN   \n",
      "16    16115.86       NaN  284720.43         284720.43  2011    NaN   \n",
      "17    18625.08       NaN  278569.21         278569.21  2011    NaN   \n",
      "18    38115.47       NaN  276434.22         276434.22  2011    NaN   \n",
      "19    16159.50       NaN  274550.25         274550.25  2011    NaN   \n",
      "20    16679.79       NaN  274190.27         274190.27  2011    NaN   \n",
      "21    15883.56       NaN  273771.21         273771.21  2011    NaN   \n",
      "22    39955.25       NaN  273702.71         273702.71  2011    NaN   \n",
      "23    24083.86       NaN  270672.63         270672.63  2011    NaN   \n",
      "24    31909.28       NaN  270324.91         270324.91  2011    NaN   \n",
      "25    11522.18       NaN  267992.59         267992.59  2011    NaN   \n",
      "26   133695.76       NaN  265784.56         265784.56  2011    NaN   \n",
      "27    16063.99       NaN  265463.46         265463.46  2011    NaN   \n",
      "28     2357.00       NaN  264074.60         264074.60  2011    NaN   \n",
      "29    15140.54       NaN  261366.14         261366.14  2011    NaN   \n",
      "..         ...       ...        ...               ...   ...    ...   \n",
      "670    3537.86       NaN  180394.09         180394.09  2011    NaN   \n",
      "671    3537.89       NaN  180394.07         180394.07  2011    NaN   \n",
      "672    3537.80       NaN  180393.98         180393.98  2011    NaN   \n",
      "673    3537.75       NaN  180393.94         180393.94  2011    NaN   \n",
      "674    3537.11       NaN  180393.28         180393.28  2011    NaN   \n",
      "675    6061.80       NaN  180312.67         180312.67  2011    NaN   \n",
      "676   14654.75       NaN  180295.72         180295.72  2011    NaN   \n",
      "677   10143.08       NaN  180272.58         180272.58  2011    NaN   \n",
      "678   17989.06       NaN  180258.96         180258.96  2011    NaN   \n",
      "679   12268.78       NaN  180251.27         180251.27  2011    NaN   \n",
      "680   19427.96       NaN  180208.69         180208.69  2011    NaN   \n",
      "681   51284.37       NaN  180106.56         180106.56  2011    NaN   \n",
      "682   18110.23       NaN  180093.59         180093.59  2011    NaN   \n",
      "683   17000.62       NaN  180092.42         180092.42  2011    NaN   \n",
      "684    8514.52       NaN  180016.42         180016.42  2011    NaN   \n",
      "685    9839.08       NaN  179996.55         179996.55  2011    NaN   \n",
      "686     120.00       NaN  179952.14         179952.14  2011    NaN   \n",
      "687   19273.96       NaN  179949.07         179949.07  2011    NaN   \n",
      "688   48528.07       NaN  179942.19         179942.19  2011    NaN   \n",
      "689    8563.34       NaN  179829.14         179829.14  2011    NaN   \n",
      "690   55642.28       NaN  179789.01         179789.01  2011    NaN   \n",
      "691   74887.71       NaN  179525.84         179525.84  2011    NaN   \n",
      "692   22484.45       NaN  179488.18         179488.18  2011    NaN   \n",
      "693   19340.47       NaN  179483.05         179483.05  2011    NaN   \n",
      "694    9580.51       NaN  179374.02         179374.02  2011    NaN   \n",
      "695   16194.87       NaN  179349.48         179349.48  2011    NaN   \n",
      "696   52876.17       NaN  179302.84         179302.84  2011    NaN   \n",
      "697    5000.00       NaN  179229.38         179229.38  2011    NaN   \n",
      "698    7432.87       NaN  179179.34         179179.34  2011    NaN   \n",
      "699   25784.81       NaN  179178.72         179178.72  2011    NaN   \n",
      "\n",
      "            Agency  Status  \n",
      "0    San Francisco     NaN  \n",
      "1    San Francisco     NaN  \n",
      "2    San Francisco     NaN  \n",
      "3    San Francisco     NaN  \n",
      "4    San Francisco     NaN  \n",
      "5    San Francisco     NaN  \n",
      "6    San Francisco     NaN  \n",
      "7    San Francisco     NaN  \n",
      "8    San Francisco     NaN  \n",
      "9    San Francisco     NaN  \n",
      "10   San Francisco     NaN  \n",
      "11   San Francisco     NaN  \n",
      "12   San Francisco     NaN  \n",
      "13   San Francisco     NaN  \n",
      "14   San Francisco     NaN  \n",
      "15   San Francisco     NaN  \n",
      "16   San Francisco     NaN  \n",
      "17   San Francisco     NaN  \n",
      "18   San Francisco     NaN  \n",
      "19   San Francisco     NaN  \n",
      "20   San Francisco     NaN  \n",
      "21   San Francisco     NaN  \n",
      "22   San Francisco     NaN  \n",
      "23   San Francisco     NaN  \n",
      "24   San Francisco     NaN  \n",
      "25   San Francisco     NaN  \n",
      "26   San Francisco     NaN  \n",
      "27   San Francisco     NaN  \n",
      "28   San Francisco     NaN  \n",
      "29   San Francisco     NaN  \n",
      "..             ...     ...  \n",
      "670  San Francisco     NaN  \n",
      "671  San Francisco     NaN  \n",
      "672  San Francisco     NaN  \n",
      "673  San Francisco     NaN  \n",
      "674  San Francisco     NaN  \n",
      "675  San Francisco     NaN  \n",
      "676  San Francisco     NaN  \n",
      "677  San Francisco     NaN  \n",
      "678  San Francisco     NaN  \n",
      "679  San Francisco     NaN  \n",
      "680  San Francisco     NaN  \n",
      "681  San Francisco     NaN  \n",
      "682  San Francisco     NaN  \n",
      "683  San Francisco     NaN  \n",
      "684  San Francisco     NaN  \n",
      "685  San Francisco     NaN  \n",
      "686  San Francisco     NaN  \n",
      "687  San Francisco     NaN  \n",
      "688  San Francisco     NaN  \n",
      "689  San Francisco     NaN  \n",
      "690  San Francisco     NaN  \n",
      "691  San Francisco     NaN  \n",
      "692  San Francisco     NaN  \n",
      "693  San Francisco     NaN  \n",
      "694  San Francisco     NaN  \n",
      "695  San Francisco     NaN  \n",
      "696  San Francisco     NaN  \n",
      "697  San Francisco     NaN  \n",
      "698  San Francisco     NaN  \n",
      "699  San Francisco     NaN  \n",
      "\n",
      "[700 rows x 13 columns]\n"
     ]
    }
   ],
   "source": [
    "print(df)"
   ]
  },
  {
   "cell_type": "code",
   "execution_count": 0,
   "metadata": {
    "colab": {},
    "colab_type": "code",
    "id": "jjo5-ds_J90T",
    "outputId": "814a1695-a2bd-4755-fcc9-62b07e002efa"
   },
   "outputs": [
    {
     "name": "stdout",
     "output_type": "stream",
     "text": [
      "Id                    0\n",
      "EmployeeName          0\n",
      "JobTitle              0\n",
      "BasePay               0\n",
      "OvertimePay           0\n",
      "OtherPay              0\n",
      "Benefits            700\n",
      "TotalPay              0\n",
      "TotalPayBenefits      0\n",
      "Year                  0\n",
      "Notes               700\n",
      "Agency                0\n",
      "Status              700\n",
      "dtype: int64\n"
     ]
    }
   ],
   "source": [
    "#handling numerical missing values\n",
    "df2 = df.fillna(df.mean())\n",
    "print(df2.isnull().sum())"
   ]
  },
  {
   "cell_type": "code",
   "execution_count": 0,
   "metadata": {
    "colab": {},
    "colab_type": "code",
    "id": "bYEh94IVJ90c"
   },
   "outputs": [],
   "source": [
    "df2.describe()"
   ]
  },
  {
   "cell_type": "code",
   "execution_count": 0,
   "metadata": {
    "colab": {},
    "colab_type": "code",
    "id": "X3gKw61AJ90k"
   },
   "outputs": [],
   "source": [
    "#We don't have any missing categorical values"
   ]
  },
  {
   "cell_type": "code",
   "execution_count": 0,
   "metadata": {
    "colab": {},
    "colab_type": "code",
    "id": "NCKRacsfJ90y"
   },
   "outputs": [],
   "source": [
    "df3.describe()"
   ]
  },
  {
   "cell_type": "code",
   "execution_count": 0,
   "metadata": {
    "colab": {},
    "colab_type": "code",
    "id": "Zy107kxDJ904",
    "outputId": "d39d25e8-c34f-4772-9638-67087f2fce7b"
   },
   "outputs": [
    {
     "data": {
      "text/plain": [
       "count     148049.0\n",
       "unique    109900.0\n",
       "top            0.0\n",
       "freq         875.0\n",
       "Name: BasePay, dtype: float64"
      ]
     },
     "execution_count": 30,
     "metadata": {
      "tags": []
     },
     "output_type": "execute_result"
    }
   ],
   "source": [
    "#handling missing values by removing the null objects\n",
    "df4=df1.dropna()\n",
    "df4.describe()"
   ]
  },
  {
   "cell_type": "code",
   "execution_count": 0,
   "metadata": {
    "colab": {},
    "colab_type": "code",
    "id": "JWbAUY8IJ91C"
   },
   "outputs": [],
   "source": []
  },
  {
   "cell_type": "code",
   "execution_count": 0,
   "metadata": {
    "colab": {},
    "colab_type": "code",
    "id": "bfpF__dgJ91J",
    "outputId": "546d7334-a06e-4fef-d1ea-bb3f39ed7089"
   },
   "outputs": [
    {
     "data": {
      "text/plain": [
       "<matplotlib.axes._subplots.AxesSubplot at 0x2e4ded0>"
      ]
     },
     "execution_count": 32,
     "metadata": {
      "tags": []
     },
     "output_type": "execute_result"
    },
    {
     "data": {
      "image/png": "[encoded data removed]",
      "text/plain": [
       "<Figure size 864x432 with 1 Axes>"
      ]
     },
     "metadata": {
      "needs_background": "light",
      "tags": []
     },
     "output_type": "display_data"
    }
   ],
   "source": [
    "#Handling Outliers (noisy data)\n",
    "df.boxplot(\"TotalPay\", figsize=(12, 6))"
   ]
  },
  {
   "cell_type": "code",
   "execution_count": 0,
   "metadata": {
    "colab": {},
    "colab_type": "code",
    "id": "H93-B9FKJ91R",
    "outputId": "7f78043f-235f-484e-c665-c1a0a733fcbe"
   },
   "outputs": [
    {
     "data": {
      "text/plain": [
       "<matplotlib.axes._subplots.AxesSubplot at 0x2e86870>"
      ]
     },
     "execution_count": 33,
     "metadata": {
      "tags": []
     },
     "output_type": "execute_result"
    },
    {
     "data": {
      "image/png": "[encoded data removed]",
      "text/plain": [
       "<Figure size 864x432 with 1 Axes>"
      ]
     },
     "metadata": {
      "needs_background": "light",
      "tags": []
     },
     "output_type": "display_data"
    }
   ],
   "source": [
    "df.boxplot(\"BasePay\", figsize=(12, 6))"
   ]
  },
  {
   "cell_type": "code",
   "execution_count": 0,
   "metadata": {
    "colab": {},
    "colab_type": "code",
    "id": "tXfRzbOdJ91X",
    "outputId": "079638f3-55b5-4ece-eb56-4a5367e98ce7"
   },
   "outputs": [
    {
     "name": "stderr",
     "output_type": "stream",
     "text": [
      "c:\\users\\admin\\appdata\\local\\programs\\python\\python37-32\\lib\\site-packages\\seaborn\\axisgrid.py:230: UserWarning: The `size` paramter has been renamed to `height`; please update your code.\n",
      "  warnings.warn(msg, UserWarning)\n"
     ]
    },
    {
     "data": {
      "text/plain": [
       "<seaborn.axisgrid.FacetGrid at 0x36abbd0>"
      ]
     },
     "execution_count": 34,
     "metadata": {
      "tags": []
     },
     "output_type": "execute_result"
    },
    {
     "data": {
      "image/png": "[encoded data removed]",
      "text/plain": [
       "<Figure size 421.375x360 with 1 Axes>"
      ]
     },
     "metadata": {
      "needs_background": "light",
      "tags": []
     },
     "output_type": "display_data"
    }
   ],
   "source": [
    "sb.FacetGrid(df, hue=\"Year\", size=5) \\\n",
    "   .map(plt.scatter, \"BasePay\", \"OtherPay\") \\\n",
    "   .add_legend()"
   ]
  },
  {
   "cell_type": "code",
   "execution_count": 0,
   "metadata": {
    "colab": {},
    "colab_type": "code",
    "id": "0kGqNP_WJ91h"
   },
   "outputs": [],
   "source": []
  },
  {
   "cell_type": "code",
   "execution_count": 0,
   "metadata": {
    "colab": {},
    "colab_type": "code",
    "id": "sJQKKr_VJ91n"
   },
   "outputs": [],
   "source": []
  },
  {
   "cell_type": "code",
   "execution_count": 0,
   "metadata": {
    "colab": {},
    "colab_type": "code",
    "id": "UK3wpyB4J91y"
   },
   "outputs": [],
   "source": []
  },
  {
   "cell_type": "code",
   "execution_count": 0,
   "metadata": {
    "colab": {},
    "colab_type": "code",
    "id": "BO-erPQQJ916"
   },
   "outputs": [],
   "source": []
  },
  {
   "cell_type": "code",
   "execution_count": 0,
   "metadata": {
    "colab": {},
    "colab_type": "code",
    "id": "aA6TLpFnJ92C"
   },
   "outputs": [],
   "source": []
  }
 ],
 "metadata": {
  "colab": {
   "collapsed_sections": [],
   "name": "DataPreprocessing(1).ipynb",
   "provenance": [],
   "version": "0.3.2"
  },
  "kernelspec": {
   "display_name": "Python 3",
   "language": "python",
   "name": "python3"
  },
  "language_info": {
   "codemirror_mode": {
    "name": "ipython",
    "version": 3
   },
   "file_extension": ".py",
   "mimetype": "text/x-python",
   "name": "python",
   "nbconvert_exporter": "python",
   "pygments_lexer": "ipython3",
   "version": "3.6.7"
  }
 },
 "nbformat": 4,
 "nbformat_minor": 1
}
